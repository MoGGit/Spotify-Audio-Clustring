{
 "metadata": {
  "language_info": {
   "codemirror_mode": {
    "name": "ipython",
    "version": 3
   },
   "file_extension": ".py",
   "mimetype": "text/x-python",
   "name": "python",
   "nbconvert_exporter": "python",
   "pygments_lexer": "ipython3",
   "version": "3.8.5-final"
  },
  "orig_nbformat": 2,
  "kernelspec": {
   "name": "python3",
   "display_name": "Python 3.8.5 64-bit ('base': conda)",
   "metadata": {
    "interpreter": {
     "hash": "3386d3d8703c15d024e4375fc558f593ccb29ce468f5f4a462d2c8087f680813"
    }
   }
  }
 },
 "nbformat": 4,
 "nbformat_minor": 2,
 "cells": [
  {
   "source": [
    "# Import the required Libraries"
   ],
   "cell_type": "markdown",
   "metadata": {}
  },
  {
   "cell_type": "code",
   "execution_count": null,
   "metadata": {},
   "outputs": [],
   "source": [
    "# install Spotipy\n",
    "# Spotify is an audio streaming and media services provider\n",
    "!pip install spotipy"
   ]
  },
  {
   "cell_type": "code",
   "execution_count": 10,
   "metadata": {},
   "outputs": [
    {
     "output_type": "stream",
     "name": "stdout",
     "text": [
      "Requirement already satisfied: yellowbrick in /Users/python/opt/anaconda3/lib/python3.8/site-packages (1.3.post1)\n",
      "Requirement already satisfied: scikit-learn>=0.20 in /Users/python/opt/anaconda3/lib/python3.8/site-packages (from yellowbrick) (0.23.2)\n",
      "Requirement already satisfied: numpy<1.20,>=1.16.0 in /Users/python/opt/anaconda3/lib/python3.8/site-packages (from yellowbrick) (1.19.2)\n",
      "Requirement already satisfied: scipy>=1.0.0 in /Users/python/opt/anaconda3/lib/python3.8/site-packages (from yellowbrick) (1.5.2)\n",
      "Requirement already satisfied: cycler>=0.10.0 in /Users/python/opt/anaconda3/lib/python3.8/site-packages (from yellowbrick) (0.10.0)\n",
      "Requirement already satisfied: matplotlib!=3.0.0,>=2.0.2 in /Users/python/opt/anaconda3/lib/python3.8/site-packages (from yellowbrick) (3.3.2)\n",
      "Requirement already satisfied: threadpoolctl>=2.0.0 in /Users/python/opt/anaconda3/lib/python3.8/site-packages (from scikit-learn>=0.20->yellowbrick) (2.1.0)\n",
      "Requirement already satisfied: joblib>=0.11 in /Users/python/opt/anaconda3/lib/python3.8/site-packages (from scikit-learn>=0.20->yellowbrick) (0.17.0)\n",
      "Requirement already satisfied: six in /Users/python/opt/anaconda3/lib/python3.8/site-packages (from cycler>=0.10.0->yellowbrick) (1.15.0)\n",
      "Requirement already satisfied: certifi>=2020.06.20 in /Users/python/opt/anaconda3/lib/python3.8/site-packages (from matplotlib!=3.0.0,>=2.0.2->yellowbrick) (2020.6.20)\n",
      "Requirement already satisfied: python-dateutil>=2.1 in /Users/python/opt/anaconda3/lib/python3.8/site-packages (from matplotlib!=3.0.0,>=2.0.2->yellowbrick) (2.8.1)\n",
      "Requirement already satisfied: kiwisolver>=1.0.1 in /Users/python/opt/anaconda3/lib/python3.8/site-packages (from matplotlib!=3.0.0,>=2.0.2->yellowbrick) (1.3.0)\n",
      "Requirement already satisfied: pillow>=6.2.0 in /Users/python/opt/anaconda3/lib/python3.8/site-packages (from matplotlib!=3.0.0,>=2.0.2->yellowbrick) (8.0.1)\n",
      "Requirement already satisfied: pyparsing!=2.0.4,!=2.1.2,!=2.1.6,>=2.0.3 in /Users/python/opt/anaconda3/lib/python3.8/site-packages (from matplotlib!=3.0.0,>=2.0.2->yellowbrick) (2.4.7)\n",
      "Collecting plotly\n",
      "  Downloading plotly-4.14.3-py2.py3-none-any.whl (13.2 MB)\n",
      "\u001b[K     |████████████████████████████████| 13.2 MB 3.3 MB/s \n",
      "\u001b[?25hRequirement already satisfied: six in /Users/python/opt/anaconda3/lib/python3.8/site-packages (from plotly) (1.15.0)\n",
      "Collecting retrying>=1.3.3\n",
      "  Downloading retrying-1.3.3.tar.gz (10 kB)\n",
      "Building wheels for collected packages: retrying\n",
      "  Building wheel for retrying (setup.py) ... \u001b[?25ldone\n",
      "\u001b[?25h  Created wheel for retrying: filename=retrying-1.3.3-py3-none-any.whl size=11429 sha256=682fc6f3d653189a04aac8e3ee2adacb8a0d114cba64b237a902813857a987dc\n",
      "  Stored in directory: /Users/python/Library/Caches/pip/wheels/c4/a7/48/0a434133f6d56e878ca511c0e6c38326907c0792f67b476e56\n",
      "Successfully built retrying\n",
      "Installing collected packages: retrying, plotly\n",
      "Successfully installed plotly-4.14.3 retrying-1.3.3\n"
     ]
    }
   ],
   "source": [
    "# install yellowbrick & Plotly\n",
    "# Visualization libraries\n",
    "!pip install yellowbrick\n",
    "!pip install plotly"
   ]
  },
  {
   "cell_type": "code",
   "execution_count": 8,
   "metadata": {},
   "outputs": [
    {
     "output_type": "stream",
     "name": "stdout",
     "text": [
      "Collecting kneed\n",
      "  Downloading kneed-0.7.0-py2.py3-none-any.whl (9.4 kB)\n",
      "Requirement already satisfied: numpy>=1.14.2 in /Users/python/opt/anaconda3/lib/python3.8/site-packages (from kneed) (1.19.2)\n",
      "Requirement already satisfied: matplotlib in /Users/python/opt/anaconda3/lib/python3.8/site-packages (from kneed) (3.3.2)\n",
      "Requirement already satisfied: scipy in /Users/python/opt/anaconda3/lib/python3.8/site-packages (from kneed) (1.5.2)\n",
      "Requirement already satisfied: cycler>=0.10 in /Users/python/opt/anaconda3/lib/python3.8/site-packages (from matplotlib->kneed) (0.10.0)\n",
      "Requirement already satisfied: pillow>=6.2.0 in /Users/python/opt/anaconda3/lib/python3.8/site-packages (from matplotlib->kneed) (8.0.1)\n",
      "Requirement already satisfied: kiwisolver>=1.0.1 in /Users/python/opt/anaconda3/lib/python3.8/site-packages (from matplotlib->kneed) (1.3.0)\n",
      "Requirement already satisfied: pyparsing!=2.0.4,!=2.1.2,!=2.1.6,>=2.0.3 in /Users/python/opt/anaconda3/lib/python3.8/site-packages (from matplotlib->kneed) (2.4.7)\n",
      "Requirement already satisfied: certifi>=2020.06.20 in /Users/python/opt/anaconda3/lib/python3.8/site-packages (from matplotlib->kneed) (2020.6.20)\n",
      "Requirement already satisfied: python-dateutil>=2.1 in /Users/python/opt/anaconda3/lib/python3.8/site-packages (from matplotlib->kneed) (2.8.1)\n",
      "Requirement already satisfied: six in /Users/python/opt/anaconda3/lib/python3.8/site-packages (from cycler>=0.10->matplotlib->kneed) (1.15.0)\n",
      "Installing collected packages: kneed\n",
      "Successfully installed kneed-0.7.0\n"
     ]
    }
   ],
   "source": [
    "# install kneed\n",
    "# This repository is an attempt to implement the kneedle algorithm, published here. Given a set of x and y values, kneed will return the knee point of the function. The knee point is the point of maximum curvature.\n",
    "\n",
    "!pip install kneed\n"
   ]
  },
  {
   "cell_type": "code",
   "execution_count": 83,
   "metadata": {},
   "outputs": [],
   "source": [
    "import sys\n",
    "import spotipy\n",
    "import yaml\n",
    "import spotipy.util as util\n",
    "from spotipy.oauth2 import SpotifyOAuth\n",
    "from pprint import pprint\n",
    "import json\n",
    "import argparse\n",
    "import matplotlib.pyplot as plt\n",
    "import numpy as np\n",
    "import pandas as pd\n",
    "from sklearn.preprocessing import StandardScaler\n",
    "from sklearn.preprocessing import MinMaxScaler\n",
    "from sklearn.decomposition import PCA\n",
    "from sklearn.cluster import KMeans\n",
    "import seaborn as sns\n",
    "from yellowbrick.cluster import KElbowVisualizer\n",
    "from kneed import KneeLocator\n",
    "import plotly.graph_objects as go\n",
    "from plotly.subplots import make_subplots\n",
    "sns.set()"
   ]
  },
  {
   "source": [
    "# Spotify API Calls"
   ],
   "cell_type": "markdown",
   "metadata": {}
  },
  {
   "cell_type": "code",
   "execution_count": 84,
   "metadata": {},
   "outputs": [
    {
     "output_type": "stream",
     "name": "stdout",
     "text": [
      "{'username': '9vv7158siqq2xvg5x37wqpp0d', 'client_id': 'ae8660143b114d849f6b2c07cee557b3', 'client_secret': '1e4bbe698cf84cf08d3250842218e4bc', 'redirect_uri': 'http://amorphoustech.com'}\n"
     ]
    }
   ],
   "source": [
    "# Get Spotipy credentials from config\n",
    "def load_config():\n",
    "    stream = open('config.yaml')\n",
    "    user_config = yaml.load(stream, Loader=yaml.FullLoader)\n",
    "    return user_config\n",
    "\n",
    "user_config = load_config()\n",
    "print(user_config)"
   ]
  },
  {
   "cell_type": "code",
   "execution_count": 85,
   "metadata": {},
   "outputs": [],
   "source": [
    "# Initialize Spotify API token\n",
    "token = util.prompt_for_user_token(user_config['username'], scope='playlist-read-private', client_id=user_config['client_id'], client_secret=user_config['client_secret'], redirect_uri=user_config['redirect_uri'])\n",
    "sp = spotipy.Spotify(auth=token)\n"
   ]
  },
  {
   "cell_type": "code",
   "execution_count": 86,
   "metadata": {},
   "outputs": [],
   "source": [
    "# A function to extract track names and URIs from a playlist\n",
    "def get_playlist_info(username, playlist_uri):\n",
    "    # initialize vars\n",
    "    offset = 0\n",
    "    tracks, uris, names, artists = [], [], [], []\n",
    "\n",
    "    # get playlist id and name from URI\n",
    "    playlist_id = playlist_uri.split(':')[2]\n",
    "    playlist_name = sp.user_playlist(username, playlist_id)['name']\n",
    "\n",
    "    # get all tracks in given playlist (max limit is 100 at a time --> use offset)\n",
    "    while True:\n",
    "        results = sp.user_playlist_tracks(username, playlist_id, offset=offset)\n",
    "        tracks += results['items']\n",
    "        if results['next'] is not None:\n",
    "            offset += 100\n",
    "        else:\n",
    "            break\n",
    "        \n",
    "    # get track metadata\n",
    "    for track in tracks:\n",
    "        names.append(track['track']['name'])\n",
    "        artists.append(track['track']['artists'][0]['name'])\n",
    "        uris.append(track['track']['uri'])\n",
    "    \n",
    "    return playlist_name, names, artists, uris"
   ]
  },
  {
   "cell_type": "code",
   "execution_count": 87,
   "metadata": {},
   "outputs": [],
   "source": [
    "# Extract features from each track in a playlist\n",
    "def get_features_for_playlist(df, username, uri):\n",
    "  \n",
    "    # get all track metadata from given playlist\n",
    "    playlist_name, names, artists, uris = get_playlist_info(username, uri)\n",
    "    \n",
    "    # iterate through each track to get audio features and save data into dataframe\n",
    "    for name, artist, track_uri in zip(names, artists, uris):\n",
    "        # print(json.dumps(track_uri, indent=4))              \n",
    "        # ^ DEBUG STATEMENT ^\n",
    "        \n",
    "        # access audio features for given track URI via spotipy \n",
    "        audio_features = sp.audio_features(track_uri)\n",
    "\n",
    "        # get relevant audio features\n",
    "        feature_subset = [audio_features[0][col] for col in df.columns if col not in [\"name\", \"artist\", \"track_URI\", \"playlist\"]]\n",
    "\n",
    "        # compose a row of the dataframe by flattening the list of audio features\n",
    "        row = [name, artist, track_uri, *feature_subset, playlist_name]\n",
    "        df.loc[len(df.index)] = row\n",
    "    return df"
   ]
  },
  {
   "cell_type": "code",
   "execution_count": 88,
   "metadata": {},
   "outputs": [],
   "source": [
    "spotify_df = pd.DataFrame(columns=['name', 'artist', 'track_URI', 'acousticness', 'danceability', 'energy', 'instrumentalness', 'liveness', 'loudness', 'speechiness', 'tempo', 'valence', 'playlist'])"
   ]
  },
  {
   "source": [
    "# collecting features of 500 Greatest songs of all time by rolling stone magazine (2010 update) from spotify\n"
   ],
   "cell_type": "markdown",
   "metadata": {}
  },
  {
   "cell_type": "code",
   "execution_count": 114,
   "metadata": {},
   "outputs": [
    {
     "output_type": "stream",
     "name": "stderr",
     "text": [
      "HTTP Error for GET to https://api.spotify.com/v1/playlists/33jXjzOGlYJcnHhARPj4LK returned 401 due to The access token expired\n"
     ]
    },
    {
     "output_type": "error",
     "ename": "SpotifyException",
     "evalue": "http status: 401, code:-1 - https://api.spotify.com/v1/playlists/33jXjzOGlYJcnHhARPj4LK?additional_types=track:\n The access token expired, reason: None",
     "traceback": [
      "\u001b[0;31m---------------------------------------------------------------------------\u001b[0m",
      "\u001b[0;31mHTTPError\u001b[0m                                 Traceback (most recent call last)",
      "\u001b[0;32m~/opt/anaconda3/lib/python3.8/site-packages/spotipy/client.py\u001b[0m in \u001b[0;36m_internal_call\u001b[0;34m(self, method, url, payload, params)\u001b[0m\n\u001b[1;32m    244\u001b[0m \u001b[0;34m\u001b[0m\u001b[0m\n\u001b[0;32m--> 245\u001b[0;31m             \u001b[0mresponse\u001b[0m\u001b[0;34m.\u001b[0m\u001b[0mraise_for_status\u001b[0m\u001b[0;34m(\u001b[0m\u001b[0;34m)\u001b[0m\u001b[0;34m\u001b[0m\u001b[0;34m\u001b[0m\u001b[0m\n\u001b[0m\u001b[1;32m    246\u001b[0m             \u001b[0mresults\u001b[0m \u001b[0;34m=\u001b[0m \u001b[0mresponse\u001b[0m\u001b[0;34m.\u001b[0m\u001b[0mjson\u001b[0m\u001b[0;34m(\u001b[0m\u001b[0;34m)\u001b[0m\u001b[0;34m\u001b[0m\u001b[0;34m\u001b[0m\u001b[0m\n",
      "\u001b[0;32m~/opt/anaconda3/lib/python3.8/site-packages/requests/models.py\u001b[0m in \u001b[0;36mraise_for_status\u001b[0;34m(self)\u001b[0m\n\u001b[1;32m    942\u001b[0m         \u001b[0;32mif\u001b[0m \u001b[0mhttp_error_msg\u001b[0m\u001b[0;34m:\u001b[0m\u001b[0;34m\u001b[0m\u001b[0;34m\u001b[0m\u001b[0m\n\u001b[0;32m--> 943\u001b[0;31m             \u001b[0;32mraise\u001b[0m \u001b[0mHTTPError\u001b[0m\u001b[0;34m(\u001b[0m\u001b[0mhttp_error_msg\u001b[0m\u001b[0;34m,\u001b[0m \u001b[0mresponse\u001b[0m\u001b[0;34m=\u001b[0m\u001b[0mself\u001b[0m\u001b[0;34m)\u001b[0m\u001b[0;34m\u001b[0m\u001b[0;34m\u001b[0m\u001b[0m\n\u001b[0m\u001b[1;32m    944\u001b[0m \u001b[0;34m\u001b[0m\u001b[0m\n",
      "\u001b[0;31mHTTPError\u001b[0m: 401 Client Error: Unauthorized for url: https://api.spotify.com/v1/playlists/33jXjzOGlYJcnHhARPj4LK?additional_types=track",
      "\nDuring handling of the above exception, another exception occurred:\n",
      "\u001b[0;31mSpotifyException\u001b[0m                          Traceback (most recent call last)",
      "\u001b[0;32m<ipython-input-114-c0fb317a3230>\u001b[0m in \u001b[0;36m<module>\u001b[0;34m\u001b[0m\n\u001b[1;32m      1\u001b[0m \u001b[0;31m# 500 Greatest songs of all time by rolling stone magazine (2010 update)\u001b[0m\u001b[0;34m\u001b[0m\u001b[0;34m\u001b[0m\u001b[0;34m\u001b[0m\u001b[0m\n\u001b[0;32m----> 2\u001b[0;31m \u001b[0mspotify_df\u001b[0m \u001b[0;34m=\u001b[0m \u001b[0mget_features_for_playlist\u001b[0m\u001b[0;34m(\u001b[0m\u001b[0mspotify_df\u001b[0m\u001b[0;34m,\u001b[0m \u001b[0muser_config\u001b[0m\u001b[0;34m[\u001b[0m\u001b[0;34m'username'\u001b[0m\u001b[0;34m]\u001b[0m\u001b[0;34m,\u001b[0m \u001b[0;34m'spotify:playlist:33jXjzOGlYJcnHhARPj4LK'\u001b[0m\u001b[0;34m)\u001b[0m\u001b[0;34m\u001b[0m\u001b[0;34m\u001b[0m\u001b[0m\n\u001b[0m\u001b[1;32m      3\u001b[0m \u001b[0mspotify_df\u001b[0m\u001b[0;34m\u001b[0m\u001b[0;34m\u001b[0m\u001b[0m\n\u001b[1;32m      4\u001b[0m \u001b[0mspotify_df\u001b[0m\u001b[0;34m.\u001b[0m\u001b[0mdrop\u001b[0m\u001b[0;34m(\u001b[0m\u001b[0mdf\u001b[0m\u001b[0;34m.\u001b[0m\u001b[0mcolumns\u001b[0m\u001b[0;34m[\u001b[0m\u001b[0;36m0\u001b[0m\u001b[0;34m]\u001b[0m\u001b[0;34m,\u001b[0m \u001b[0maxis\u001b[0m\u001b[0;34m=\u001b[0m\u001b[0;36m1\u001b[0m\u001b[0;34m)\u001b[0m\u001b[0;34m\u001b[0m\u001b[0;34m\u001b[0m\u001b[0m\n",
      "\u001b[0;32m<ipython-input-87-cf1d1cc40386>\u001b[0m in \u001b[0;36mget_features_for_playlist\u001b[0;34m(df, username, uri)\u001b[0m\n\u001b[1;32m      3\u001b[0m \u001b[0;34m\u001b[0m\u001b[0m\n\u001b[1;32m      4\u001b[0m     \u001b[0;31m# get all track metadata from given playlist\u001b[0m\u001b[0;34m\u001b[0m\u001b[0;34m\u001b[0m\u001b[0;34m\u001b[0m\u001b[0m\n\u001b[0;32m----> 5\u001b[0;31m     \u001b[0mplaylist_name\u001b[0m\u001b[0;34m,\u001b[0m \u001b[0mnames\u001b[0m\u001b[0;34m,\u001b[0m \u001b[0martists\u001b[0m\u001b[0;34m,\u001b[0m \u001b[0muris\u001b[0m \u001b[0;34m=\u001b[0m \u001b[0mget_playlist_info\u001b[0m\u001b[0;34m(\u001b[0m\u001b[0musername\u001b[0m\u001b[0;34m,\u001b[0m \u001b[0muri\u001b[0m\u001b[0;34m)\u001b[0m\u001b[0;34m\u001b[0m\u001b[0;34m\u001b[0m\u001b[0m\n\u001b[0m\u001b[1;32m      6\u001b[0m \u001b[0;34m\u001b[0m\u001b[0m\n\u001b[1;32m      7\u001b[0m     \u001b[0;31m# iterate through each track to get audio features and save data into dataframe\u001b[0m\u001b[0;34m\u001b[0m\u001b[0;34m\u001b[0m\u001b[0;34m\u001b[0m\u001b[0m\n",
      "\u001b[0;32m<ipython-input-86-6b6e1e7cba09>\u001b[0m in \u001b[0;36mget_playlist_info\u001b[0;34m(username, playlist_uri)\u001b[0m\n\u001b[1;32m      7\u001b[0m     \u001b[0;31m# get playlist id and name from URI\u001b[0m\u001b[0;34m\u001b[0m\u001b[0;34m\u001b[0m\u001b[0;34m\u001b[0m\u001b[0m\n\u001b[1;32m      8\u001b[0m     \u001b[0mplaylist_id\u001b[0m \u001b[0;34m=\u001b[0m \u001b[0mplaylist_uri\u001b[0m\u001b[0;34m.\u001b[0m\u001b[0msplit\u001b[0m\u001b[0;34m(\u001b[0m\u001b[0;34m':'\u001b[0m\u001b[0;34m)\u001b[0m\u001b[0;34m[\u001b[0m\u001b[0;36m2\u001b[0m\u001b[0;34m]\u001b[0m\u001b[0;34m\u001b[0m\u001b[0;34m\u001b[0m\u001b[0m\n\u001b[0;32m----> 9\u001b[0;31m     \u001b[0mplaylist_name\u001b[0m \u001b[0;34m=\u001b[0m \u001b[0msp\u001b[0m\u001b[0;34m.\u001b[0m\u001b[0muser_playlist\u001b[0m\u001b[0;34m(\u001b[0m\u001b[0musername\u001b[0m\u001b[0;34m,\u001b[0m \u001b[0mplaylist_id\u001b[0m\u001b[0;34m)\u001b[0m\u001b[0;34m[\u001b[0m\u001b[0;34m'name'\u001b[0m\u001b[0;34m]\u001b[0m\u001b[0;34m\u001b[0m\u001b[0;34m\u001b[0m\u001b[0m\n\u001b[0m\u001b[1;32m     10\u001b[0m \u001b[0;34m\u001b[0m\u001b[0m\n\u001b[1;32m     11\u001b[0m     \u001b[0;31m# get all tracks in given playlist (max limit is 100 at a time --> use offset)\u001b[0m\u001b[0;34m\u001b[0m\u001b[0;34m\u001b[0m\u001b[0;34m\u001b[0m\u001b[0m\n",
      "\u001b[0;32m~/opt/anaconda3/lib/python3.8/site-packages/spotipy/client.py\u001b[0m in \u001b[0;36muser_playlist\u001b[0;34m(self, user, playlist_id, fields, market)\u001b[0m\n\u001b[1;32m    713\u001b[0m         \u001b[0;32mif\u001b[0m \u001b[0mplaylist_id\u001b[0m \u001b[0;32mis\u001b[0m \u001b[0;32mNone\u001b[0m\u001b[0;34m:\u001b[0m\u001b[0;34m\u001b[0m\u001b[0;34m\u001b[0m\u001b[0m\n\u001b[1;32m    714\u001b[0m             \u001b[0;32mreturn\u001b[0m \u001b[0mself\u001b[0m\u001b[0;34m.\u001b[0m\u001b[0m_get\u001b[0m\u001b[0;34m(\u001b[0m\u001b[0;34m\"users/%s/starred\"\u001b[0m \u001b[0;34m%\u001b[0m \u001b[0muser\u001b[0m\u001b[0;34m)\u001b[0m\u001b[0;34m\u001b[0m\u001b[0;34m\u001b[0m\u001b[0m\n\u001b[0;32m--> 715\u001b[0;31m         \u001b[0;32mreturn\u001b[0m \u001b[0mself\u001b[0m\u001b[0;34m.\u001b[0m\u001b[0mplaylist\u001b[0m\u001b[0;34m(\u001b[0m\u001b[0mplaylist_id\u001b[0m\u001b[0;34m,\u001b[0m \u001b[0mfields\u001b[0m\u001b[0;34m=\u001b[0m\u001b[0mfields\u001b[0m\u001b[0;34m,\u001b[0m \u001b[0mmarket\u001b[0m\u001b[0;34m=\u001b[0m\u001b[0mmarket\u001b[0m\u001b[0;34m)\u001b[0m\u001b[0;34m\u001b[0m\u001b[0;34m\u001b[0m\u001b[0m\n\u001b[0m\u001b[1;32m    716\u001b[0m \u001b[0;34m\u001b[0m\u001b[0m\n\u001b[1;32m    717\u001b[0m     def user_playlist_tracks(\n",
      "\u001b[0;32m~/opt/anaconda3/lib/python3.8/site-packages/spotipy/client.py\u001b[0m in \u001b[0;36mplaylist\u001b[0;34m(self, playlist_id, fields, market, additional_types)\u001b[0m\n\u001b[1;32m    609\u001b[0m         \"\"\"\n\u001b[1;32m    610\u001b[0m         \u001b[0mplid\u001b[0m \u001b[0;34m=\u001b[0m \u001b[0mself\u001b[0m\u001b[0;34m.\u001b[0m\u001b[0m_get_id\u001b[0m\u001b[0;34m(\u001b[0m\u001b[0;34m\"playlist\"\u001b[0m\u001b[0;34m,\u001b[0m \u001b[0mplaylist_id\u001b[0m\u001b[0;34m)\u001b[0m\u001b[0;34m\u001b[0m\u001b[0;34m\u001b[0m\u001b[0m\n\u001b[0;32m--> 611\u001b[0;31m         return self._get(\n\u001b[0m\u001b[1;32m    612\u001b[0m             \u001b[0;34m\"playlists/%s\"\u001b[0m \u001b[0;34m%\u001b[0m \u001b[0;34m(\u001b[0m\u001b[0mplid\u001b[0m\u001b[0;34m)\u001b[0m\u001b[0;34m,\u001b[0m\u001b[0;34m\u001b[0m\u001b[0;34m\u001b[0m\u001b[0m\n\u001b[1;32m    613\u001b[0m             \u001b[0mfields\u001b[0m\u001b[0;34m=\u001b[0m\u001b[0mfields\u001b[0m\u001b[0;34m,\u001b[0m\u001b[0;34m\u001b[0m\u001b[0;34m\u001b[0m\u001b[0m\n",
      "\u001b[0;32m~/opt/anaconda3/lib/python3.8/site-packages/spotipy/client.py\u001b[0m in \u001b[0;36m_get\u001b[0;34m(self, url, args, payload, **kwargs)\u001b[0m\n\u001b[1;32m    289\u001b[0m             \u001b[0mkwargs\u001b[0m\u001b[0;34m.\u001b[0m\u001b[0mupdate\u001b[0m\u001b[0;34m(\u001b[0m\u001b[0margs\u001b[0m\u001b[0;34m)\u001b[0m\u001b[0;34m\u001b[0m\u001b[0;34m\u001b[0m\u001b[0m\n\u001b[1;32m    290\u001b[0m \u001b[0;34m\u001b[0m\u001b[0m\n\u001b[0;32m--> 291\u001b[0;31m         \u001b[0;32mreturn\u001b[0m \u001b[0mself\u001b[0m\u001b[0;34m.\u001b[0m\u001b[0m_internal_call\u001b[0m\u001b[0;34m(\u001b[0m\u001b[0;34m\"GET\"\u001b[0m\u001b[0;34m,\u001b[0m \u001b[0murl\u001b[0m\u001b[0;34m,\u001b[0m \u001b[0mpayload\u001b[0m\u001b[0;34m,\u001b[0m \u001b[0mkwargs\u001b[0m\u001b[0;34m)\u001b[0m\u001b[0;34m\u001b[0m\u001b[0;34m\u001b[0m\u001b[0m\n\u001b[0m\u001b[1;32m    292\u001b[0m \u001b[0;34m\u001b[0m\u001b[0m\n\u001b[1;32m    293\u001b[0m     \u001b[0;32mdef\u001b[0m \u001b[0m_post\u001b[0m\u001b[0;34m(\u001b[0m\u001b[0mself\u001b[0m\u001b[0;34m,\u001b[0m \u001b[0murl\u001b[0m\u001b[0;34m,\u001b[0m \u001b[0margs\u001b[0m\u001b[0;34m=\u001b[0m\u001b[0;32mNone\u001b[0m\u001b[0;34m,\u001b[0m \u001b[0mpayload\u001b[0m\u001b[0;34m=\u001b[0m\u001b[0;32mNone\u001b[0m\u001b[0;34m,\u001b[0m \u001b[0;34m**\u001b[0m\u001b[0mkwargs\u001b[0m\u001b[0;34m)\u001b[0m\u001b[0;34m:\u001b[0m\u001b[0;34m\u001b[0m\u001b[0;34m\u001b[0m\u001b[0m\n",
      "\u001b[0;32m~/opt/anaconda3/lib/python3.8/site-packages/spotipy/client.py\u001b[0m in \u001b[0;36m_internal_call\u001b[0;34m(self, method, url, payload, params)\u001b[0m\n\u001b[1;32m    259\u001b[0m                          method, url, response.status_code, msg)\n\u001b[1;32m    260\u001b[0m \u001b[0;34m\u001b[0m\u001b[0m\n\u001b[0;32m--> 261\u001b[0;31m             raise SpotifyException(\n\u001b[0m\u001b[1;32m    262\u001b[0m                 \u001b[0mresponse\u001b[0m\u001b[0;34m.\u001b[0m\u001b[0mstatus_code\u001b[0m\u001b[0;34m,\u001b[0m\u001b[0;34m\u001b[0m\u001b[0;34m\u001b[0m\u001b[0m\n\u001b[1;32m    263\u001b[0m                 \u001b[0;34m-\u001b[0m\u001b[0;36m1\u001b[0m\u001b[0;34m,\u001b[0m\u001b[0;34m\u001b[0m\u001b[0;34m\u001b[0m\u001b[0m\n",
      "\u001b[0;31mSpotifyException\u001b[0m: http status: 401, code:-1 - https://api.spotify.com/v1/playlists/33jXjzOGlYJcnHhARPj4LK?additional_types=track:\n The access token expired, reason: None"
     ]
    }
   ],
   "source": [
    "# 500 Greatest songs of all time by rolling stone magazine (2010 update)\n",
    "spotify_df = get_features_for_playlist(spotify_df, user_config['username'], 'spotify:playlist:33jXjzOGlYJcnHhARPj4LK')\n",
    "spotify_df\n"
   ]
  },
  {
   "cell_type": "code",
   "execution_count": 137,
   "metadata": {},
   "outputs": [],
   "source": [
    "spotify_df.to_csv('Spotify_rollingstone500.csv')"
   ]
  },
  {
   "cell_type": "code",
   "execution_count": 1,
   "metadata": {},
   "outputs": [
    {
     "output_type": "error",
     "ename": "NameError",
     "evalue": "name 'pd' is not defined",
     "traceback": [
      "\u001b[0;31m---------------------------------------------------------------------------\u001b[0m",
      "\u001b[0;31mNameError\u001b[0m                                 Traceback (most recent call last)",
      "\u001b[0;32m<ipython-input-1-7a6b7cf4e510>\u001b[0m in \u001b[0;36m<module>\u001b[0;34m\u001b[0m\n\u001b[0;32m----> 1\u001b[0;31m \u001b[0msp_df\u001b[0m\u001b[0;34m=\u001b[0m\u001b[0mpd\u001b[0m\u001b[0;34m.\u001b[0m\u001b[0mread_csv\u001b[0m\u001b[0;34m(\u001b[0m\u001b[0;34m'Spotify_rollingstone500.csv'\u001b[0m\u001b[0;34m)\u001b[0m\u001b[0;34m\u001b[0m\u001b[0;34m\u001b[0m\u001b[0m\n\u001b[0m",
      "\u001b[0;31mNameError\u001b[0m: name 'pd' is not defined"
     ]
    }
   ],
   "source": [
    "sp_df=pd.read_csv('Spotify_rollingstone500.csv')\n"
   ]
  },
  {
   "source": [
    "# Identifying columns with misleading data"
   ],
   "cell_type": "markdown",
   "metadata": {}
  },
  {
   "cell_type": "code",
   "execution_count": 190,
   "metadata": {},
   "outputs": [
    {
     "output_type": "stream",
     "name": "stdout",
     "text": [
      "1   number of value 0 in column Unnamed: 0\n163   number of value 0 in column instrumentalness\n"
     ]
    }
   ],
   "source": [
    "\n",
    "for column in sp_df:\n",
    "    no_value=sp_df[column].eq(0).sum()\n",
    "    if no_value>0:\n",
    "        print(f'{no_value}   number of value 0 in column {column}')   "
   ]
  },
  {
   "cell_type": "code",
   "execution_count": 191,
   "metadata": {},
   "outputs": [
    {
     "output_type": "execute_result",
     "data": {
      "text/plain": [
       "(524, 12)"
      ]
     },
     "metadata": {},
     "execution_count": 191
    }
   ],
   "source": [
    "# Drop unname and instrumentalness columns\n",
    "sp_df.drop(sp_df.columns[0], axis=1,inplace=True)\n",
    "sp_df.drop(columns=['instrumentalness'],inplace=True)\n",
    "sp_df.shape"
   ]
  },
  {
   "cell_type": "code",
   "execution_count": null,
   "metadata": {},
   "outputs": [],
   "source": []
  }
 ]
}